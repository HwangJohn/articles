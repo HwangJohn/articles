{
 "cells": [
  {
   "cell_type": "code",
   "execution_count": 1,
   "metadata": {},
   "outputs": [
    {
     "name": "stderr",
     "output_type": "stream",
     "text": [
      "/usr/local/lib/python3.5/dist-packages/h5py/__init__.py:36: FutureWarning: Conversion of the second argument of issubdtype from `float` to `np.floating` is deprecated. In future, it will be treated as `np.float64 == np.dtype(float).type`.\n",
      "  from ._conv import register_converters as _register_converters\n"
     ]
    }
   ],
   "source": [
    "import numpy as np\n",
    "import pandas as pd\n",
    "import tensorflow as tf\n",
    "import matplotlib.pyplot as plt"
   ]
  },
  {
   "cell_type": "code",
   "execution_count": 2,
   "metadata": {},
   "outputs": [],
   "source": [
    "sess = tf.InteractiveSession()"
   ]
  },
  {
   "cell_type": "code",
   "execution_count": 3,
   "metadata": {},
   "outputs": [
    {
     "data": {
      "text/plain": [
       "((4000, 28, 28), (4000,), (400, 28, 28), (400,))"
      ]
     },
     "execution_count": 3,
     "metadata": {},
     "output_type": "execute_result"
    }
   ],
   "source": [
    "#load 4000 of MNIST data for train and 400 for testing\n",
    "(x_train, y_train), (x_test, y_test) = tf.keras.datasets.mnist.load_data()\n",
    "x_full = x_train[:4000] / 255\n",
    "y_full = y_train[:4000]\n",
    "x_test = x_test[:400] /255\n",
    "y_test = y_test[:400]\n",
    "x_full.shape, y_full.shape, x_test.shape, y_test.shape"
   ]
  },
  {
   "cell_type": "code",
   "execution_count": 4,
   "metadata": {},
   "outputs": [
    {
     "data": {
      "text/plain": [
       "<matplotlib.image.AxesImage at 0x7f59087e5978>"
      ]
     },
     "execution_count": 4,
     "metadata": {},
     "output_type": "execute_result"
    },
    {
     "data": {
      "image/png": "[encoded data removed]",
      "text/plain": [
       "<Figure size 432x288 with 1 Axes>"
      ]
     },
     "metadata": {},
     "output_type": "display_data"
    }
   ],
   "source": [
    "plt.imshow(x_full[3999])"
   ]
  },
  {
   "cell_type": "code",
   "execution_count": 5,
   "metadata": {},
   "outputs": [],
   "source": [
    "#build computation graph\n",
    "x = tf.placeholder(tf.float32, [None, 28, 28])\n",
    "x_flat = tf.reshape(x, [-1, 28 * 28])\n",
    "y_ = tf.placeholder(tf.int32, [None])\n",
    "W = tf.Variable(tf.zeros([28 * 28, 10]), tf.float32)\n",
    "b = tf.Variable(tf.zeros([10]), tf.float32)\n",
    "y = tf.matmul(x_flat, W) + b\n",
    "y_sm = tf.nn.softmax(y)\n",
    "loss = tf.reduce_mean(tf.nn.sparse_softmax_cross_entropy_with_logits(labels=y_, logits=y))\n",
    "train = tf.train.AdamOptimizer(0.1).minimize(loss)\n",
    "accuracy = tf.reduce_mean(tf.cast(tf.equal(y_, tf.cast(tf.argmax(y, 1), tf.int32)), tf.float32))"
   ]
  },
  {
   "cell_type": "code",
   "execution_count": 6,
   "metadata": {},
   "outputs": [],
   "source": [
    "def reset():\n",
    "    '''Initialize data sets and session'''\n",
    "    global x_labeled, y_labeled, x_unlabeled, y_unlabeled\n",
    "    x_labeled = x_full[:0]\n",
    "    y_labeled = y_full[:0]\n",
    "    x_unlabeled = x_full\n",
    "    y_unlabeled = y_full\n",
    "    tf.global_variables_initializer().run()\n",
    "    tf.local_variables_initializer().run() \n",
    "\n",
    "def fit():\n",
    "    '''Train current labeled dataset until overfit.'''\n",
    "    trial_count = 10\n",
    "    acc = sess.run(accuracy, feed_dict={x:x_test, y_:y_test})\n",
    "    weights = sess.run([W, b])\n",
    "    while trial_count > 0:\n",
    "        sess.run(train, feed_dict={x:x_labeled, y_:y_labeled})\n",
    "        acc_new = sess.run(accuracy, feed_dict={x:x_test, y_:y_test})\n",
    "        if acc_new <= acc:\n",
    "            trial_count -= 1\n",
    "        else:\n",
    "            trial_count = 10\n",
    "            weights = sess.run([W, b])\n",
    "            acc = acc_new\n",
    "\n",
    "    sess.run([W.assign(weights[0]), b.assign(weights[1])])    \n",
    "    acc = sess.run(accuracy, feed_dict={x:x_test, y_:y_test})\n",
    "    print('Labels:', x_labeled.shape[0], '\\tAccuracy:', acc)\n",
    "\n",
    "def label_manually(n):\n",
    "    '''Human powered labeling (actually copying from the prelabeled MNIST dataset).'''\n",
    "    global x_labeled, y_labeled, x_unlabeled, y_unlabeled\n",
    "    x_labeled = np.concatenate([x_labeled, x_unlabeled[:n]])\n",
    "    y_labeled = np.concatenate([y_labeled, y_unlabeled[:n]])\n",
    "    x_unlabeled = x_unlabeled[n:]\n",
    "    y_unlabeled = y_unlabeled[n:]\n"
   ]
  },
  {
   "cell_type": "code",
   "execution_count": 7,
   "metadata": {},
   "outputs": [
    {
     "name": "stdout",
     "output_type": "stream",
     "text": [
      "Labels: 4000 \tAccuracy: 0.9225\n"
     ]
    }
   ],
   "source": [
    "#train full dataset of 1000\n",
    "reset()\n",
    "label_manually(4000)\n",
    "fit()"
   ]
  },
  {
   "cell_type": "code",
   "execution_count": 8,
   "metadata": {},
   "outputs": [
    {
     "name": "stdout",
     "output_type": "stream",
     "text": [
      "INFO:tensorflow:Using default config.\n",
      "WARNING:tensorflow:Using temporary folder as model directory: /tmp/tmpuk2rv4h5\n",
      "INFO:tensorflow:Using config: {'_session_config': None, '_evaluation_master': '', '_tf_random_seed': None, '_save_checkpoints_steps': None, '_model_dir': '/tmp/tmpuk2rv4h5', '_master': '', '_cluster_spec': <tensorflow.python.training.server_lib.ClusterSpec object at 0x7f58d0363d30>, '_service': None, '_num_ps_replicas': 0, '_task_id': 0, '_save_summary_steps': 100, '_keep_checkpoint_every_n_hours': 10000, '_keep_checkpoint_max': 5, '_num_worker_replicas': 1, '_is_chief': True, '_global_id_in_cluster': 0, '_train_distribute': None, '_task_type': 'worker', '_log_step_count_steps': 100, '_save_checkpoints_secs': 600}\n",
      "INFO:tensorflow:Calling model_fn.\n",
      "INFO:tensorflow:Done calling model_fn.\n",
      "INFO:tensorflow:Create CheckpointSaverHook.\n",
      "INFO:tensorflow:Graph was finalized.\n",
      "INFO:tensorflow:Running local_init_op.\n",
      "INFO:tensorflow:Done running local_init_op.\n",
      "INFO:tensorflow:Saving checkpoints for 1 into /tmp/tmpuk2rv4h5/model.ckpt.\n",
      "INFO:tensorflow:loss = 274107.66, step = 1\n",
      "INFO:tensorflow:Saving checkpoints for 10 into /tmp/tmpuk2rv4h5/model.ckpt.\n",
      "INFO:tensorflow:Loss for final step: 154262.86.\n"
     ]
    },
    {
     "data": {
      "text/plain": [
       "<tensorflow.contrib.factorization.python.ops.kmeans.KMeansClustering at 0x7f59087b3780>"
      ]
     },
     "execution_count": 8,
     "metadata": {},
     "output_type": "execute_result"
    }
   ],
   "source": [
    "#apply clustering\n",
    "kmeans = tf.contrib.factorization.KMeansClustering(10, use_mini_batch=False)\n",
    "kmeans.train(lambda: tf.train.limit_epochs(x_full.reshape(4000, 784).astype(np.float32), 10))"
   ]
  },
  {
   "cell_type": "code",
   "execution_count": 9,
   "metadata": {},
   "outputs": [
    {
     "data": {
      "text/plain": [
       "<matplotlib.image.AxesImage at 0x7f58d033a860>"
      ]
     },
     "execution_count": 9,
     "metadata": {},
     "output_type": "execute_result"
    },
    {
     "data": {
      "image/png": "[encoded data removed]",
      "text/plain": [
       "<Figure size 432x288 with 1 Axes>"
      ]
     },
     "metadata": {},
     "output_type": "display_data"
    }
   ],
   "source": [
    "centers = kmeans.cluster_centers().reshape([10, 28, 28])\n",
    "plt.imshow(np.concatenate([centers[i] for i in range(10)], axis=1))"
   ]
  },
  {
   "cell_type": "code",
   "execution_count": 10,
   "metadata": {},
   "outputs": [
    {
     "name": "stdout",
     "output_type": "stream",
     "text": [
      "Labels: 4000 \tAccuracy: 0.9225\n"
     ]
    }
   ],
   "source": [
    "#again run training on full dataset of 4000\n",
    "reset()\n",
    "label_manually(4000)\n",
    "fit()"
   ]
  },
  {
   "cell_type": "code",
   "execution_count": 11,
   "metadata": {},
   "outputs": [
    {
     "name": "stdout",
     "output_type": "stream",
     "text": [
      "Labels: 400 \tAccuracy: 0.8375\n"
     ]
    }
   ],
   "source": [
    "#try to run on random 400\n",
    "reset()\n",
    "label_manually(400)\n",
    "fit()"
   ]
  },
  {
   "cell_type": "code",
   "execution_count": 12,
   "metadata": {},
   "outputs": [
    {
     "name": "stdout",
     "output_type": "stream",
     "text": [
      "Labels: 10 \tAccuracy: 0.38\n"
     ]
    }
   ],
   "source": [
    "#now try to run on 10\n",
    "reset()\n",
    "label_manually(10)\n",
    "fit()"
   ]
  },
  {
   "cell_type": "code",
   "execution_count": 13,
   "metadata": {},
   "outputs": [
    {
     "data": {
      "text/plain": [
       "[<matplotlib.lines.Line2D at 0x7f58d0192f28>]"
      ]
     },
     "execution_count": 13,
     "metadata": {},
     "output_type": "execute_result"
    },
    {
     "data": {
      "image/png": "[encoded data removed]",
      "text/plain": [
       "<Figure size 432x288 with 1 Axes>"
      ]
     },
     "metadata": {},
     "output_type": "display_data"
    }
   ],
   "source": [
    "#pass unlabeled rest 3990 through the early model\n",
    "res = sess.run(y_sm, feed_dict={x:x_unlabeled})\n",
    "#find less confident samples\n",
    "pmax = np.amax(res, axis=1)\n",
    "pidx = np.argsort(pmax)\n",
    "#sort the unlabeled corpus on the confidency\n",
    "x_unlabeled = x_unlabeled[pidx]\n",
    "y_unlabeled = y_unlabeled[pidx]\n",
    "plt.plot(pmax[pidx])"
   ]
  },
  {
   "cell_type": "code",
   "execution_count": 14,
   "metadata": {},
   "outputs": [
    {
     "name": "stdout",
     "output_type": "stream",
     "text": [
      "Labels: 20 \tAccuracy: 0.4975\n",
      "Labels: 30 \tAccuracy: 0.535\n",
      "Labels: 40 \tAccuracy: 0.5475\n",
      "Labels: 50 \tAccuracy: 0.59\n",
      "Labels: 60 \tAccuracy: 0.64\n",
      "Labels: 70 \tAccuracy: 0.6475\n",
      "Labels: 80 \tAccuracy: 0.6925\n",
      "Labels: 90 \tAccuracy: 0.6975\n",
      "Labels: 100 \tAccuracy: 0.73\n",
      "Labels: 110 \tAccuracy: 0.745\n",
      "Labels: 120 \tAccuracy: 0.7625\n",
      "Labels: 130 \tAccuracy: 0.7725\n",
      "Labels: 140 \tAccuracy: 0.7725\n",
      "Labels: 150 \tAccuracy: 0.7725\n",
      "Labels: 160 \tAccuracy: 0.7875\n",
      "Labels: 170 \tAccuracy: 0.7875\n",
      "Labels: 180 \tAccuracy: 0.8175\n",
      "Labels: 190 \tAccuracy: 0.8225\n",
      "Labels: 200 \tAccuracy: 0.8225\n",
      "Labels: 210 \tAccuracy: 0.825\n",
      "Labels: 220 \tAccuracy: 0.8425\n",
      "Labels: 230 \tAccuracy: 0.8425\n",
      "Labels: 240 \tAccuracy: 0.845\n",
      "Labels: 250 \tAccuracy: 0.8525\n",
      "Labels: 260 \tAccuracy: 0.8525\n",
      "Labels: 270 \tAccuracy: 0.8525\n",
      "Labels: 280 \tAccuracy: 0.8525\n",
      "Labels: 290 \tAccuracy: 0.8525\n",
      "Labels: 300 \tAccuracy: 0.8525\n",
      "Labels: 310 \tAccuracy: 0.86\n",
      "Labels: 320 \tAccuracy: 0.86\n",
      "Labels: 330 \tAccuracy: 0.86\n",
      "Labels: 340 \tAccuracy: 0.86\n",
      "Labels: 350 \tAccuracy: 0.865\n",
      "Labels: 360 \tAccuracy: 0.8775\n",
      "Labels: 370 \tAccuracy: 0.8825\n",
      "Labels: 380 \tAccuracy: 0.8825\n",
      "Labels: 390 \tAccuracy: 0.885\n",
      "Labels: 400 \tAccuracy: 0.8975\n"
     ]
    }
   ],
   "source": [
    "#do the same in a loop for 400 samples\n",
    "for i  in range(39):\n",
    "    label_manually(10)\n",
    "    fit()\n",
    "    \n",
    "    res = sess.run(y_sm, feed_dict={x:x_unlabeled})\n",
    "    pmax = np.amax(res, axis=1)\n",
    "    pidx = np.argsort(pmax)\n",
    "    x_unlabeled = x_unlabeled[pidx]\n",
    "    y_unlabeled = y_unlabeled[pidx]\n"
   ]
  },
  {
   "cell_type": "code",
   "execution_count": 15,
   "metadata": {},
   "outputs": [
    {
     "name": "stdout",
     "output_type": "stream",
     "text": [
      "Labels: 4000 \tAccuracy: 0.8975\n"
     ]
    }
   ],
   "source": [
    "#pass rest unlabeled data through the model and try to autolabel\n",
    "res = sess.run(y_sm, feed_dict={x:x_unlabeled})\n",
    "y_autolabeled = res.argmax(axis=1)\n",
    "x_labeled = np.concatenate([x_labeled, x_unlabeled])\n",
    "y_labeled = np.concatenate([y_labeled, y_autolabeled])\n",
    "#train on 400 labeled by active learning and 3600 stochasticly autolabeled data\n",
    "fit()"
   ]
  },
  {
   "cell_type": "code",
   "execution_count": 16,
   "metadata": {},
   "outputs": [
    {
     "name": "stdout",
     "output_type": "stream",
     "text": [
      "Labels: 10 \tAccuracy: 0.38\n",
      "Labels: 20 \tAccuracy: 0.4975\n",
      "Labels: 30 \tAccuracy: 0.535\n",
      "Labels: 40 \tAccuracy: 0.5475\n",
      "Labels: 50 \tAccuracy: 0.59\n",
      "Labels: 60 \tAccuracy: 0.64\n",
      "Labels: 70 \tAccuracy: 0.6475\n",
      "Labels: 80 \tAccuracy: 0.6925\n",
      "Labels: 90 \tAccuracy: 0.6975\n",
      "Labels: 100 \tAccuracy: 0.73\n",
      "Labels: 110 \tAccuracy: 0.745\n",
      "Labels: 120 \tAccuracy: 0.7625\n",
      "Labels: 130 \tAccuracy: 0.7725\n",
      "Labels: 140 \tAccuracy: 0.7725\n",
      "Labels: 150 \tAccuracy: 0.7725\n",
      "Labels: 160 \tAccuracy: 0.7875\n",
      "Labels: 170 \tAccuracy: 0.7875\n",
      "Labels: 180 \tAccuracy: 0.8175\n",
      "Labels: 190 \tAccuracy: 0.8225\n",
      "Labels: 200 \tAccuracy: 0.8225\n",
      "Labels: 210 \tAccuracy: 0.825\n",
      "Labels: 220 \tAccuracy: 0.8425\n",
      "Labels: 230 \tAccuracy: 0.8425\n",
      "Labels: 240 \tAccuracy: 0.845\n",
      "Labels: 250 \tAccuracy: 0.8525\n",
      "Labels: 260 \tAccuracy: 0.8525\n",
      "Labels: 270 \tAccuracy: 0.8525\n",
      "Labels: 280 \tAccuracy: 0.8525\n",
      "Labels: 290 \tAccuracy: 0.8525\n",
      "Labels: 300 \tAccuracy: 0.8525\n",
      "Labels: 310 \tAccuracy: 0.86\n",
      "Labels: 320 \tAccuracy: 0.86\n",
      "Labels: 330 \tAccuracy: 0.86\n",
      "Labels: 340 \tAccuracy: 0.86\n",
      "Labels: 350 \tAccuracy: 0.865\n",
      "Labels: 360 \tAccuracy: 0.8775\n",
      "Labels: 370 \tAccuracy: 0.8825\n",
      "Labels: 380 \tAccuracy: 0.8825\n",
      "Labels: 390 \tAccuracy: 0.885\n",
      "Labels: 400 \tAccuracy: 0.8975\n"
     ]
    }
   ],
   "source": [
    "#reset the model and train again 400 samples using active learning\n",
    "reset()\n",
    "for i in range(40):\n",
    "    label_manually(10)\n",
    "    fit()\n",
    "    \n",
    "    res = sess.run(y_sm, feed_dict={x:x_unlabeled})\n",
    "    pmax = np.amax(res, axis=1)\n",
    "    pidx = np.argsort(pmax)\n",
    "    x_unlabeled = x_unlabeled[pidx]\n",
    "    y_unlabeled = y_unlabeled[pidx]"
   ]
  },
  {
   "cell_type": "code",
   "execution_count": 17,
   "metadata": {},
   "outputs": [
    {
     "data": {
      "text/plain": [
       "[<matplotlib.lines.Line2D at 0x7f58cf918fd0>]"
      ]
     },
     "execution_count": 17,
     "metadata": {},
     "output_type": "execute_result"
    },
    {
     "data": {
      "image/png": "[encoded data removed]",
      "text/plain": [
       "<Figure size 432x288 with 1 Axes>"
      ]
     },
     "metadata": {},
     "output_type": "display_data"
    }
   ],
   "source": [
    "#pass rest of unlabeled (3600) data trough the model for automatic labeling and show most confident samples\n",
    "res = sess.run(y_sm, feed_dict={x:x_unlabeled})\n",
    "y_autolabeled = res.argmax(axis=1)\n",
    "pmax = np.amax(res, axis=1)\n",
    "pidx = np.argsort(pmax)\n",
    "#sort by confidency\n",
    "x_unlabeled = x_unlabeled[pidx]\n",
    "y_autolabeled = y_autolabeled[pidx]\n",
    "plt.plot(pmax[pidx])"
   ]
  },
  {
   "cell_type": "code",
   "execution_count": 18,
   "metadata": {},
   "outputs": [
    {
     "name": "stdout",
     "output_type": "stream",
     "text": [
      "Labels: 410 \tAccuracy: 0.8975\n"
     ]
    }
   ],
   "source": [
    "#automatically label 10 most confident sample and train for it\n",
    "x_labeled = np.concatenate([x_labeled, x_unlabeled[-10:]])\n",
    "y_labeled = np.concatenate([y_labeled, y_autolabeled[-10:]])\n",
    "x_unlabeled = x_unlabeled[:-10]\n",
    "fit()"
   ]
  },
  {
   "cell_type": "code",
   "execution_count": 19,
   "metadata": {},
   "outputs": [
    {
     "name": "stdout",
     "output_type": "stream",
     "text": [
      "Labels: 420 \tAccuracy: 0.8975\n",
      "Labels: 430 \tAccuracy: 0.8975\n",
      "Labels: 440 \tAccuracy: 0.8975\n",
      "Labels: 450 \tAccuracy: 0.8975\n",
      "Labels: 460 \tAccuracy: 0.8975\n",
      "Labels: 470 \tAccuracy: 0.8975\n",
      "Labels: 480 \tAccuracy: 0.8975\n",
      "Labels: 490 \tAccuracy: 0.8975\n",
      "Labels: 500 \tAccuracy: 0.8975\n",
      "Labels: 510 \tAccuracy: 0.8975\n",
      "Labels: 520 \tAccuracy: 0.8975\n",
      "Labels: 530 \tAccuracy: 0.8975\n",
      "Labels: 540 \tAccuracy: 0.8975\n",
      "Labels: 550 \tAccuracy: 0.8975\n",
      "Labels: 560 \tAccuracy: 0.8975\n",
      "Labels: 570 \tAccuracy: 0.8975\n",
      "Labels: 580 \tAccuracy: 0.8975\n",
      "Labels: 590 \tAccuracy: 0.8975\n",
      "Labels: 600 \tAccuracy: 0.8975\n",
      "Labels: 610 \tAccuracy: 0.8975\n",
      "Labels: 620 \tAccuracy: 0.8975\n",
      "Labels: 630 \tAccuracy: 0.8975\n",
      "Labels: 640 \tAccuracy: 0.8975\n",
      "Labels: 650 \tAccuracy: 0.8975\n",
      "Labels: 660 \tAccuracy: 0.8975\n",
      "Labels: 670 \tAccuracy: 0.8975\n",
      "Labels: 680 \tAccuracy: 0.8975\n",
      "Labels: 690 \tAccuracy: 0.8975\n",
      "Labels: 700 \tAccuracy: 0.8975\n",
      "Labels: 710 \tAccuracy: 0.8975\n",
      "Labels: 720 \tAccuracy: 0.8975\n",
      "Labels: 730 \tAccuracy: 0.8975\n",
      "Labels: 740 \tAccuracy: 0.8975\n",
      "Labels: 750 \tAccuracy: 0.8975\n",
      "Labels: 760 \tAccuracy: 0.8975\n",
      "Labels: 770 \tAccuracy: 0.8975\n",
      "Labels: 780 \tAccuracy: 0.8975\n",
      "Labels: 790 \tAccuracy: 0.8975\n",
      "Labels: 800 \tAccuracy: 0.8975\n",
      "Labels: 810 \tAccuracy: 0.8975\n",
      "Labels: 820 \tAccuracy: 0.8975\n",
      "Labels: 830 \tAccuracy: 0.8975\n",
      "Labels: 840 \tAccuracy: 0.8975\n",
      "Labels: 850 \tAccuracy: 0.8975\n",
      "Labels: 860 \tAccuracy: 0.8975\n",
      "Labels: 870 \tAccuracy: 0.8975\n",
      "Labels: 880 \tAccuracy: 0.8975\n",
      "Labels: 890 \tAccuracy: 0.8975\n",
      "Labels: 900 \tAccuracy: 0.8975\n",
      "Labels: 910 \tAccuracy: 0.8975\n",
      "Labels: 920 \tAccuracy: 0.8975\n",
      "Labels: 930 \tAccuracy: 0.8975\n",
      "Labels: 940 \tAccuracy: 0.8975\n",
      "Labels: 950 \tAccuracy: 0.8975\n",
      "Labels: 960 \tAccuracy: 0.8975\n",
      "Labels: 970 \tAccuracy: 0.8975\n",
      "Labels: 980 \tAccuracy: 0.8975\n",
      "Labels: 990 \tAccuracy: 0.8975\n",
      "Labels: 1000 \tAccuracy: 0.8975\n",
      "Labels: 1010 \tAccuracy: 0.8975\n",
      "Labels: 1020 \tAccuracy: 0.8975\n",
      "Labels: 1030 \tAccuracy: 0.8975\n",
      "Labels: 1040 \tAccuracy: 0.8975\n",
      "Labels: 1050 \tAccuracy: 0.8975\n",
      "Labels: 1060 \tAccuracy: 0.8975\n",
      "Labels: 1070 \tAccuracy: 0.8975\n",
      "Labels: 1080 \tAccuracy: 0.8975\n",
      "Labels: 1090 \tAccuracy: 0.8975\n",
      "Labels: 1100 \tAccuracy: 0.8975\n",
      "Labels: 1110 \tAccuracy: 0.8975\n",
      "Labels: 1120 \tAccuracy: 0.8975\n",
      "Labels: 1130 \tAccuracy: 0.8975\n",
      "Labels: 1140 \tAccuracy: 0.8975\n",
      "Labels: 1150 \tAccuracy: 0.8975\n",
      "Labels: 1160 \tAccuracy: 0.8975\n",
      "Labels: 1170 \tAccuracy: 0.8975\n",
      "Labels: 1180 \tAccuracy: 0.8975\n",
      "Labels: 1190 \tAccuracy: 0.8975\n",
      "Labels: 1200 \tAccuracy: 0.8975\n",
      "Labels: 1210 \tAccuracy: 0.8975\n",
      "Labels: 1220 \tAccuracy: 0.8975\n",
      "Labels: 1230 \tAccuracy: 0.8975\n",
      "Labels: 1240 \tAccuracy: 0.8975\n",
      "Labels: 1250 \tAccuracy: 0.8975\n",
      "Labels: 1260 \tAccuracy: 0.8975\n",
      "Labels: 1270 \tAccuracy: 0.8975\n",
      "Labels: 1280 \tAccuracy: 0.8975\n",
      "Labels: 1290 \tAccuracy: 0.8975\n",
      "Labels: 1300 \tAccuracy: 0.8975\n",
      "Labels: 1310 \tAccuracy: 0.8975\n",
      "Labels: 1320 \tAccuracy: 0.8975\n",
      "Labels: 1330 \tAccuracy: 0.8975\n",
      "Labels: 1340 \tAccuracy: 0.8975\n",
      "Labels: 1350 \tAccuracy: 0.8975\n",
      "Labels: 1360 \tAccuracy: 0.8975\n",
      "Labels: 1370 \tAccuracy: 0.8975\n",
      "Labels: 1380 \tAccuracy: 0.8975\n",
      "Labels: 1390 \tAccuracy: 0.8975\n",
      "Labels: 1400 \tAccuracy: 0.8975\n",
      "Labels: 1410 \tAccuracy: 0.8975\n",
      "Labels: 1420 \tAccuracy: 0.8975\n",
      "Labels: 1430 \tAccuracy: 0.8975\n",
      "Labels: 1440 \tAccuracy: 0.8975\n",
      "Labels: 1450 \tAccuracy: 0.8975\n",
      "Labels: 1460 \tAccuracy: 0.8975\n",
      "Labels: 1470 \tAccuracy: 0.8975\n",
      "Labels: 1480 \tAccuracy: 0.8975\n",
      "Labels: 1490 \tAccuracy: 0.8975\n",
      "Labels: 1500 \tAccuracy: 0.8975\n",
      "Labels: 1510 \tAccuracy: 0.8975\n",
      "Labels: 1520 \tAccuracy: 0.8975\n",
      "Labels: 1530 \tAccuracy: 0.8975\n",
      "Labels: 1540 \tAccuracy: 0.8975\n",
      "Labels: 1550 \tAccuracy: 0.8975\n",
      "Labels: 1560 \tAccuracy: 0.8975\n",
      "Labels: 1570 \tAccuracy: 0.8975\n",
      "Labels: 1580 \tAccuracy: 0.8975\n",
      "Labels: 1590 \tAccuracy: 0.8975\n",
      "Labels: 1600 \tAccuracy: 0.8975\n",
      "Labels: 1610 \tAccuracy: 0.8975\n",
      "Labels: 1620 \tAccuracy: 0.8975\n",
      "Labels: 1630 \tAccuracy: 0.8975\n",
      "Labels: 1640 \tAccuracy: 0.8975\n",
      "Labels: 1650 \tAccuracy: 0.8975\n",
      "Labels: 1660 \tAccuracy: 0.8975\n",
      "Labels: 1670 \tAccuracy: 0.8975\n",
      "Labels: 1680 \tAccuracy: 0.8975\n",
      "Labels: 1690 \tAccuracy: 0.8975\n",
      "Labels: 1700 \tAccuracy: 0.8975\n",
      "Labels: 1710 \tAccuracy: 0.8975\n",
      "Labels: 1720 \tAccuracy: 0.8975\n",
      "Labels: 1730 \tAccuracy: 0.8975\n",
      "Labels: 1740 \tAccuracy: 0.8975\n",
      "Labels: 1750 \tAccuracy: 0.8975\n",
      "Labels: 1760 \tAccuracy: 0.8975\n",
      "Labels: 1770 \tAccuracy: 0.8975\n",
      "Labels: 1780 \tAccuracy: 0.8975\n",
      "Labels: 1790 \tAccuracy: 0.8975\n",
      "Labels: 1800 \tAccuracy: 0.8975\n",
      "Labels: 1810 \tAccuracy: 0.8975\n",
      "Labels: 1820 \tAccuracy: 0.8975\n",
      "Labels: 1830 \tAccuracy: 0.8975\n",
      "Labels: 1840 \tAccuracy: 0.8975\n",
      "Labels: 1850 \tAccuracy: 0.8975\n",
      "Labels: 1860 \tAccuracy: 0.8975\n",
      "Labels: 1870 \tAccuracy: 0.8975\n",
      "Labels: 1880 \tAccuracy: 0.8975\n",
      "Labels: 1890 \tAccuracy: 0.8975\n",
      "Labels: 1900 \tAccuracy: 0.8975\n",
      "Labels: 1910 \tAccuracy: 0.8975\n",
      "Labels: 1920 \tAccuracy: 0.8975\n",
      "Labels: 1930 \tAccuracy: 0.8975\n",
      "Labels: 1940 \tAccuracy: 0.8975\n",
      "Labels: 1950 \tAccuracy: 0.8975\n",
      "Labels: 1960 \tAccuracy: 0.8975\n",
      "Labels: 1970 \tAccuracy: 0.8975\n",
      "Labels: 1980 \tAccuracy: 0.8975\n",
      "Labels: 1990 \tAccuracy: 0.8975\n",
      "Labels: 2000 \tAccuracy: 0.8975\n",
      "Labels: 2010 \tAccuracy: 0.8975\n",
      "Labels: 2020 \tAccuracy: 0.8975\n",
      "Labels: 2030 \tAccuracy: 0.8975\n",
      "Labels: 2040 \tAccuracy: 0.8975\n",
      "Labels: 2050 \tAccuracy: 0.8975\n",
      "Labels: 2060 \tAccuracy: 0.8975\n",
      "Labels: 2070 \tAccuracy: 0.8975\n",
      "Labels: 2080 \tAccuracy: 0.8975\n",
      "Labels: 2090 \tAccuracy: 0.8975\n",
      "Labels: 2100 \tAccuracy: 0.8975\n",
      "Labels: 2110 \tAccuracy: 0.8975\n",
      "Labels: 2120 \tAccuracy: 0.8975\n",
      "Labels: 2130 \tAccuracy: 0.8975\n",
      "Labels: 2140 \tAccuracy: 0.8975\n",
      "Labels: 2150 \tAccuracy: 0.8975\n",
      "Labels: 2160 \tAccuracy: 0.8975\n",
      "Labels: 2170 \tAccuracy: 0.8975\n",
      "Labels: 2180 \tAccuracy: 0.8975\n",
      "Labels: 2190 \tAccuracy: 0.8975\n",
      "Labels: 2200 \tAccuracy: 0.8975\n",
      "Labels: 2210 \tAccuracy: 0.8975\n",
      "Labels: 2220 \tAccuracy: 0.8975\n",
      "Labels: 2230 \tAccuracy: 0.8975\n",
      "Labels: 2240 \tAccuracy: 0.8975\n",
      "Labels: 2250 \tAccuracy: 0.8975\n",
      "Labels: 2260 \tAccuracy: 0.8975\n",
      "Labels: 2270 \tAccuracy: 0.8975\n",
      "Labels: 2280 \tAccuracy: 0.8975\n",
      "Labels: 2290 \tAccuracy: 0.8975\n",
      "Labels: 2300 \tAccuracy: 0.8975\n",
      "Labels: 2310 \tAccuracy: 0.8975\n",
      "Labels: 2320 \tAccuracy: 0.8975\n",
      "Labels: 2330 \tAccuracy: 0.8975\n",
      "Labels: 2340 \tAccuracy: 0.8975\n",
      "Labels: 2350 \tAccuracy: 0.8975\n",
      "Labels: 2360 \tAccuracy: 0.8975\n",
      "Labels: 2370 \tAccuracy: 0.8975\n",
      "Labels: 2380 \tAccuracy: 0.8975\n",
      "Labels: 2390 \tAccuracy: 0.8975\n",
      "Labels: 2400 \tAccuracy: 0.8975\n",
      "Labels: 2410 \tAccuracy: 0.8975\n",
      "Labels: 2420 \tAccuracy: 0.8975\n",
      "Labels: 2430 \tAccuracy: 0.8975\n",
      "Labels: 2440 \tAccuracy: 0.8975\n",
      "Labels: 2450 \tAccuracy: 0.8975\n",
      "Labels: 2460 \tAccuracy: 0.8975\n",
      "Labels: 2470 \tAccuracy: 0.8975\n",
      "Labels: 2480 \tAccuracy: 0.8975\n",
      "Labels: 2490 \tAccuracy: 0.8975\n",
      "Labels: 2500 \tAccuracy: 0.8975\n",
      "Labels: 2510 \tAccuracy: 0.8975\n",
      "Labels: 2520 \tAccuracy: 0.8975\n",
      "Labels: 2530 \tAccuracy: 0.8975\n",
      "Labels: 2540 \tAccuracy: 0.8975\n",
      "Labels: 2550 \tAccuracy: 0.8975\n",
      "Labels: 2560 \tAccuracy: 0.8975\n",
      "Labels: 2570 \tAccuracy: 0.8975\n",
      "Labels: 2580 \tAccuracy: 0.8975\n",
      "Labels: 2590 \tAccuracy: 0.8975\n",
      "Labels: 2600 \tAccuracy: 0.8975\n",
      "Labels: 2610 \tAccuracy: 0.8975\n",
      "Labels: 2620 \tAccuracy: 0.8975\n",
      "Labels: 2630 \tAccuracy: 0.8975\n",
      "Labels: 2640 \tAccuracy: 0.8975\n",
      "Labels: 2650 \tAccuracy: 0.8975\n",
      "Labels: 2660 \tAccuracy: 0.8975\n",
      "Labels: 2670 \tAccuracy: 0.8975\n",
      "Labels: 2680 \tAccuracy: 0.8975\n",
      "Labels: 2690 \tAccuracy: 0.8975\n",
      "Labels: 2700 \tAccuracy: 0.8975\n",
      "Labels: 2710 \tAccuracy: 0.8975\n",
      "Labels: 2720 \tAccuracy: 0.8975\n",
      "Labels: 2730 \tAccuracy: 0.8975\n",
      "Labels: 2740 \tAccuracy: 0.8975\n",
      "Labels: 2750 \tAccuracy: 0.8975\n",
      "Labels: 2760 \tAccuracy: 0.8975\n",
      "Labels: 2770 \tAccuracy: 0.8975\n",
      "Labels: 2780 \tAccuracy: 0.8975\n",
      "Labels: 2790 \tAccuracy: 0.8975\n",
      "Labels: 2800 \tAccuracy: 0.8975\n",
      "Labels: 2810 \tAccuracy: 0.8975\n",
      "Labels: 2820 \tAccuracy: 0.8975\n",
      "Labels: 2830 \tAccuracy: 0.8975\n",
      "Labels: 2840 \tAccuracy: 0.8975\n",
      "Labels: 2850 \tAccuracy: 0.8975\n",
      "Labels: 2860 \tAccuracy: 0.8975\n",
      "Labels: 2870 \tAccuracy: 0.8975\n",
      "Labels: 2880 \tAccuracy: 0.8975\n",
      "Labels: 2890 \tAccuracy: 0.8975\n",
      "Labels: 2900 \tAccuracy: 0.8975\n",
      "Labels: 2910 \tAccuracy: 0.8975\n",
      "Labels: 2920 \tAccuracy: 0.8975\n",
      "Labels: 2930 \tAccuracy: 0.8975\n",
      "Labels: 2940 \tAccuracy: 0.8975\n",
      "Labels: 2950 \tAccuracy: 0.8975\n",
      "Labels: 2960 \tAccuracy: 0.8975\n",
      "Labels: 2970 \tAccuracy: 0.8975\n",
      "Labels: 2980 \tAccuracy: 0.8975\n",
      "Labels: 2990 \tAccuracy: 0.8975\n",
      "Labels: 3000 \tAccuracy: 0.8975\n",
      "Labels: 3010 \tAccuracy: 0.8975\n",
      "Labels: 3020 \tAccuracy: 0.8975\n",
      "Labels: 3030 \tAccuracy: 0.8975\n",
      "Labels: 3040 \tAccuracy: 0.8975\n",
      "Labels: 3050 \tAccuracy: 0.8975\n",
      "Labels: 3060 \tAccuracy: 0.8975\n",
      "Labels: 3070 \tAccuracy: 0.8975\n",
      "Labels: 3080 \tAccuracy: 0.8975\n",
      "Labels: 3090 \tAccuracy: 0.8975\n",
      "Labels: 3100 \tAccuracy: 0.8975\n",
      "Labels: 3110 \tAccuracy: 0.8975\n",
      "Labels: 3120 \tAccuracy: 0.8975\n",
      "Labels: 3130 \tAccuracy: 0.8975\n",
      "Labels: 3140 \tAccuracy: 0.8975\n",
      "Labels: 3150 \tAccuracy: 0.8975\n",
      "Labels: 3160 \tAccuracy: 0.8975\n",
      "Labels: 3170 \tAccuracy: 0.8975\n",
      "Labels: 3180 \tAccuracy: 0.8975\n",
      "Labels: 3190 \tAccuracy: 0.8975\n",
      "Labels: 3200 \tAccuracy: 0.8975\n",
      "Labels: 3210 \tAccuracy: 0.8975\n",
      "Labels: 3220 \tAccuracy: 0.8975\n",
      "Labels: 3230 \tAccuracy: 0.8975\n",
      "Labels: 3240 \tAccuracy: 0.8975\n",
      "Labels: 3250 \tAccuracy: 0.8975\n",
      "Labels: 3260 \tAccuracy: 0.8975\n",
      "Labels: 3270 \tAccuracy: 0.8975\n",
      "Labels: 3280 \tAccuracy: 0.8975\n",
      "Labels: 3290 \tAccuracy: 0.8975\n",
      "Labels: 3300 \tAccuracy: 0.8975\n",
      "Labels: 3310 \tAccuracy: 0.8975\n",
      "Labels: 3320 \tAccuracy: 0.8975\n",
      "Labels: 3330 \tAccuracy: 0.8975\n",
      "Labels: 3340 \tAccuracy: 0.8975\n",
      "Labels: 3350 \tAccuracy: 0.8975\n",
      "Labels: 3360 \tAccuracy: 0.8975\n",
      "Labels: 3370 \tAccuracy: 0.8975\n",
      "Labels: 3380 \tAccuracy: 0.8975\n",
      "Labels: 3390 \tAccuracy: 0.8975\n",
      "Labels: 3400 \tAccuracy: 0.8975\n",
      "Labels: 3410 \tAccuracy: 0.8975\n",
      "Labels: 3420 \tAccuracy: 0.8975\n",
      "Labels: 3430 \tAccuracy: 0.8975\n",
      "Labels: 3440 \tAccuracy: 0.8975\n",
      "Labels: 3450 \tAccuracy: 0.8975\n",
      "Labels: 3460 \tAccuracy: 0.8975\n",
      "Labels: 3470 \tAccuracy: 0.8975\n",
      "Labels: 3480 \tAccuracy: 0.8975\n",
      "Labels: 3490 \tAccuracy: 0.8975\n",
      "Labels: 3500 \tAccuracy: 0.8975\n",
      "Labels: 3510 \tAccuracy: 0.8975\n",
      "Labels: 3520 \tAccuracy: 0.8975\n",
      "Labels: 3530 \tAccuracy: 0.8975\n",
      "Labels: 3540 \tAccuracy: 0.8975\n",
      "Labels: 3550 \tAccuracy: 0.9\n",
      "Labels: 3560 \tAccuracy: 0.9\n",
      "Labels: 3570 \tAccuracy: 0.9\n",
      "Labels: 3580 \tAccuracy: 0.9\n",
      "Labels: 3590 \tAccuracy: 0.9\n",
      "Labels: 3600 \tAccuracy: 0.9\n",
      "Labels: 3610 \tAccuracy: 0.9\n",
      "Labels: 3620 \tAccuracy: 0.9\n",
      "Labels: 3630 \tAccuracy: 0.9\n",
      "Labels: 3640 \tAccuracy: 0.9\n",
      "Labels: 3650 \tAccuracy: 0.9\n",
      "Labels: 3660 \tAccuracy: 0.9\n",
      "Labels: 3670 \tAccuracy: 0.9\n",
      "Labels: 3680 \tAccuracy: 0.9\n",
      "Labels: 3690 \tAccuracy: 0.9\n",
      "Labels: 3700 \tAccuracy: 0.9\n",
      "Labels: 3710 \tAccuracy: 0.9\n",
      "Labels: 3720 \tAccuracy: 0.9\n",
      "Labels: 3730 \tAccuracy: 0.9\n",
      "Labels: 3740 \tAccuracy: 0.9\n",
      "Labels: 3750 \tAccuracy: 0.9\n",
      "Labels: 3760 \tAccuracy: 0.9\n",
      "Labels: 3770 \tAccuracy: 0.9\n",
      "Labels: 3780 \tAccuracy: 0.9\n",
      "Labels: 3790 \tAccuracy: 0.9\n",
      "Labels: 3800 \tAccuracy: 0.9\n",
      "Labels: 3810 \tAccuracy: 0.9\n",
      "Labels: 3820 \tAccuracy: 0.9\n",
      "Labels: 3830 \tAccuracy: 0.9\n",
      "Labels: 3840 \tAccuracy: 0.9\n",
      "Labels: 3850 \tAccuracy: 0.9\n",
      "Labels: 3860 \tAccuracy: 0.9\n",
      "Labels: 3870 \tAccuracy: 0.9\n",
      "Labels: 3880 \tAccuracy: 0.905\n",
      "Labels: 3890 \tAccuracy: 0.905\n",
      "Labels: 3900 \tAccuracy: 0.905\n",
      "Labels: 3910 \tAccuracy: 0.905\n",
      "Labels: 3920 \tAccuracy: 0.905\n",
      "Labels: 3930 \tAccuracy: 0.905\n",
      "Labels: 3940 \tAccuracy: 0.905\n",
      "Labels: 3950 \tAccuracy: 0.905\n",
      "Labels: 3960 \tAccuracy: 0.905\n",
      "Labels: 3970 \tAccuracy: 0.905\n",
      "Labels: 3980 \tAccuracy: 0.905\n",
      "Labels: 3990 \tAccuracy: 0.905\n",
      "Labels: 4000 \tAccuracy: 0.905\n"
     ]
    }
   ],
   "source": [
    "#run rest of unlabelled samples starting from most confident\n",
    "for i in range(359):\n",
    "    res = sess.run(y_sm, feed_dict={x:x_unlabeled})\n",
    "    y_autolabeled = res.argmax(axis=1)\n",
    "    pmax = np.amax(res, axis=1)\n",
    "    pidx = np.argsort(pmax)\n",
    "    x_unlabeled = x_unlabeled[pidx]\n",
    "    y_autolabeled = y_autolabeled[pidx]\n",
    "    x_labeled = np.concatenate([x_labeled, x_unlabeled[-10:]])\n",
    "    y_labeled = np.concatenate([y_labeled, y_autolabeled[-10:]])\n",
    "    x_unlabeled = x_unlabeled[:-10]\n",
    "    fit()"
   ]
  },
  {
   "cell_type": "code",
   "execution_count": null,
   "metadata": {},
   "outputs": [],
   "source": []
  }
 ],
 "metadata": {
  "kernelspec": {
   "display_name": "Python 3",
   "language": "python",
   "name": "python3"
  },
  "language_info": {
   "codemirror_mode": {
    "name": "ipython",
    "version": 3
   },
   "file_extension": ".py",
   "mimetype": "text/x-python",
   "name": "python",
   "nbconvert_exporter": "python",
   "pygments_lexer": "ipython3",
   "version": "3.5.2"
  },
  "latex_envs": {
   "LaTeX_envs_menu_present": true,
   "autoclose": false,
   "autocomplete": true,
   "bibliofile": "biblio.bib",
   "cite_by": "apalike",
   "current_citInitial": 1,
   "eqLabelWithNumbers": true,
   "eqNumInitial": 1,
   "hotkeys": {
    "equation": "Ctrl-E",
    "itemize": "Ctrl-I"
   },
   "labels_anchors": false,
   "latex_user_defs": false,
   "report_style_numbering": false,
   "user_envs_cfg": false
  },
  "varInspector": {
   "cols": {
    "lenName": 16,
    "lenType": 16,
    "lenVar": 40
   },
   "kernels_config": {
    "python": {
     "delete_cmd_postfix": "",
     "delete_cmd_prefix": "del ",
     "library": "var_list.py",
     "varRefreshCmd": "print(var_dic_list())"
    },
    "r": {
     "delete_cmd_postfix": ") ",
     "delete_cmd_prefix": "rm(",
     "library": "var_list.r",
     "varRefreshCmd": "cat(var_dic_list()) "
    }
   },
   "types_to_exclude": [
    "module",
    "function",
    "builtin_function_or_method",
    "instance",
    "_Feature"
   ],
   "window_display": false
  }
 },
 "nbformat": 4,
 "nbformat_minor": 2
}
